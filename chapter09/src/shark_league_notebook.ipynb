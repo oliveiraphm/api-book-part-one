{
 "cells": [
  {
   "cell_type": "code",
   "execution_count": 29,
   "id": "49ee33c0",
   "metadata": {},
   "outputs": [],
   "source": [
    "import pandas as pd\n",
    "import logging\n",
    "import swc_simple_client as swc\n"
   ]
  },
  {
   "cell_type": "code",
   "execution_count": 25,
   "id": "4d3e1cbc",
   "metadata": {},
   "outputs": [],
   "source": [
    "for handler in logging.root.handlers[:]:\n",
    "    logging.root.removeHandler(handler)\n",
    "\n",
    "logging.basicConfig(\n",
    "    filename='shark_notebook.log',\n",
    "    level=logging.INFO,\n",
    ")"
   ]
  },
  {
   "cell_type": "code",
   "execution_count": 26,
   "id": "7307d703",
   "metadata": {},
   "outputs": [],
   "source": [
    "base_url = \"https://fantasyfootbal-api-service.onrender.com\""
   ]
  },
  {
   "cell_type": "code",
   "execution_count": 31,
   "id": "0e06c9f4",
   "metadata": {},
   "outputs": [
    {
     "ename": "KeyError",
     "evalue": "'week_number'",
     "output_type": "error",
     "traceback": [
      "\u001b[31m---------------------------------------------------------------------------\u001b[39m",
      "\u001b[31mKeyError\u001b[39m                                  Traceback (most recent call last)",
      "\u001b[36mFile \u001b[39m\u001b[32mc:\\Users\\PauloOliveira\\py_studies\\handsonapi\\.venv\\Lib\\site-packages\\pandas\\core\\indexes\\base.py:3805\u001b[39m, in \u001b[36mIndex.get_loc\u001b[39m\u001b[34m(self, key)\u001b[39m\n\u001b[32m   3804\u001b[39m \u001b[38;5;28;01mtry\u001b[39;00m:\n\u001b[32m-> \u001b[39m\u001b[32m3805\u001b[39m     \u001b[38;5;28;01mreturn\u001b[39;00m \u001b[38;5;28;43mself\u001b[39;49m\u001b[43m.\u001b[49m\u001b[43m_engine\u001b[49m\u001b[43m.\u001b[49m\u001b[43mget_loc\u001b[49m\u001b[43m(\u001b[49m\u001b[43mcasted_key\u001b[49m\u001b[43m)\u001b[49m\n\u001b[32m   3806\u001b[39m \u001b[38;5;28;01mexcept\u001b[39;00m \u001b[38;5;167;01mKeyError\u001b[39;00m \u001b[38;5;28;01mas\u001b[39;00m err:\n",
      "\u001b[36mFile \u001b[39m\u001b[32mindex.pyx:167\u001b[39m, in \u001b[36mpandas._libs.index.IndexEngine.get_loc\u001b[39m\u001b[34m()\u001b[39m\n",
      "\u001b[36mFile \u001b[39m\u001b[32mindex.pyx:196\u001b[39m, in \u001b[36mpandas._libs.index.IndexEngine.get_loc\u001b[39m\u001b[34m()\u001b[39m\n",
      "\u001b[36mFile \u001b[39m\u001b[32mpandas\\\\_libs\\\\hashtable_class_helper.pxi:7081\u001b[39m, in \u001b[36mpandas._libs.hashtable.PyObjectHashTable.get_item\u001b[39m\u001b[34m()\u001b[39m\n",
      "\u001b[36mFile \u001b[39m\u001b[32mpandas\\\\_libs\\\\hashtable_class_helper.pxi:7089\u001b[39m, in \u001b[36mpandas._libs.hashtable.PyObjectHashTable.get_item\u001b[39m\u001b[34m()\u001b[39m\n",
      "\u001b[31mKeyError\u001b[39m: 'week_number'",
      "\nThe above exception was the direct cause of the following exception:\n",
      "\u001b[31mKeyError\u001b[39m                                  Traceback (most recent call last)",
      "\u001b[36mCell\u001b[39m\u001b[36m \u001b[39m\u001b[32mIn[31]\u001b[39m\u001b[32m, line 3\u001b[39m\n\u001b[32m      1\u001b[39m week_api_response = swc.call_api_endpoint(base_url, \u001b[33m\"\u001b[39m\u001b[33m/v0/teams/\u001b[39m\u001b[33m\"\u001b[39m)\u001b[38;5;66;03m#swc.LIST_TEAMS_ENDPOINT)\u001b[39;00m\n\u001b[32m      2\u001b[39m weeks_df = pd.DataFrame(week_api_response.json())\n\u001b[32m----> \u001b[39m\u001b[32m3\u001b[39m weeks_df[\u001b[33m'\u001b[39m\u001b[33myear\u001b[39m\u001b[33m'\u001b[39m] = \u001b[43mweeks_df\u001b[49m\u001b[43m[\u001b[49m\u001b[33;43m'\u001b[39;49m\u001b[33;43mweek_number\u001b[39;49m\u001b[33;43m'\u001b[39;49m\u001b[43m]\u001b[49m.str.slice(\u001b[32m0\u001b[39m,\u001b[32m4\u001b[39m).astype(\u001b[38;5;28mint\u001b[39m)\n\u001b[32m      4\u001b[39m weeks_df[\u001b[33m'\u001b[39m\u001b[33mweek\u001b[39m\u001b[33m'\u001b[39m] = weeks_df[\u001b[33m'\u001b[39m\u001b[33mweek_number\u001b[39m\u001b[33m'\u001b[39m].str.slice(\u001b[32m4\u001b[39m,\u001b[32m6\u001b[39m).astype(\u001b[38;5;28mint\u001b[39m)\n\u001b[32m      6\u001b[39m weeks_df = weeks_df.query(\u001b[33m'\u001b[39m\u001b[33mweek <= 14\u001b[39m\u001b[33m'\u001b[39m)\n",
      "\u001b[36mFile \u001b[39m\u001b[32mc:\\Users\\PauloOliveira\\py_studies\\handsonapi\\.venv\\Lib\\site-packages\\pandas\\core\\frame.py:4102\u001b[39m, in \u001b[36mDataFrame.__getitem__\u001b[39m\u001b[34m(self, key)\u001b[39m\n\u001b[32m   4100\u001b[39m \u001b[38;5;28;01mif\u001b[39;00m \u001b[38;5;28mself\u001b[39m.columns.nlevels > \u001b[32m1\u001b[39m:\n\u001b[32m   4101\u001b[39m     \u001b[38;5;28;01mreturn\u001b[39;00m \u001b[38;5;28mself\u001b[39m._getitem_multilevel(key)\n\u001b[32m-> \u001b[39m\u001b[32m4102\u001b[39m indexer = \u001b[38;5;28;43mself\u001b[39;49m\u001b[43m.\u001b[49m\u001b[43mcolumns\u001b[49m\u001b[43m.\u001b[49m\u001b[43mget_loc\u001b[49m\u001b[43m(\u001b[49m\u001b[43mkey\u001b[49m\u001b[43m)\u001b[49m\n\u001b[32m   4103\u001b[39m \u001b[38;5;28;01mif\u001b[39;00m is_integer(indexer):\n\u001b[32m   4104\u001b[39m     indexer = [indexer]\n",
      "\u001b[36mFile \u001b[39m\u001b[32mc:\\Users\\PauloOliveira\\py_studies\\handsonapi\\.venv\\Lib\\site-packages\\pandas\\core\\indexes\\base.py:3812\u001b[39m, in \u001b[36mIndex.get_loc\u001b[39m\u001b[34m(self, key)\u001b[39m\n\u001b[32m   3807\u001b[39m     \u001b[38;5;28;01mif\u001b[39;00m \u001b[38;5;28misinstance\u001b[39m(casted_key, \u001b[38;5;28mslice\u001b[39m) \u001b[38;5;129;01mor\u001b[39;00m (\n\u001b[32m   3808\u001b[39m         \u001b[38;5;28misinstance\u001b[39m(casted_key, abc.Iterable)\n\u001b[32m   3809\u001b[39m         \u001b[38;5;129;01mand\u001b[39;00m \u001b[38;5;28many\u001b[39m(\u001b[38;5;28misinstance\u001b[39m(x, \u001b[38;5;28mslice\u001b[39m) \u001b[38;5;28;01mfor\u001b[39;00m x \u001b[38;5;129;01min\u001b[39;00m casted_key)\n\u001b[32m   3810\u001b[39m     ):\n\u001b[32m   3811\u001b[39m         \u001b[38;5;28;01mraise\u001b[39;00m InvalidIndexError(key)\n\u001b[32m-> \u001b[39m\u001b[32m3812\u001b[39m     \u001b[38;5;28;01mraise\u001b[39;00m \u001b[38;5;167;01mKeyError\u001b[39;00m(key) \u001b[38;5;28;01mfrom\u001b[39;00m\u001b[38;5;250m \u001b[39m\u001b[34;01merr\u001b[39;00m\n\u001b[32m   3813\u001b[39m \u001b[38;5;28;01mexcept\u001b[39;00m \u001b[38;5;167;01mTypeError\u001b[39;00m:\n\u001b[32m   3814\u001b[39m     \u001b[38;5;66;03m# If we have a listlike key, _check_indexing_error will raise\u001b[39;00m\n\u001b[32m   3815\u001b[39m     \u001b[38;5;66;03m#  InvalidIndexError. Otherwise we fall through and re-raise\u001b[39;00m\n\u001b[32m   3816\u001b[39m     \u001b[38;5;66;03m#  the TypeError.\u001b[39;00m\n\u001b[32m   3817\u001b[39m     \u001b[38;5;28mself\u001b[39m._check_indexing_error(key)\n",
      "\u001b[31mKeyError\u001b[39m: 'week_number'"
     ]
    }
   ],
   "source": [
    "week_api_response = swc.call_api_endpoint(base_url, \"/v0/teams/\")#swc.LIST_TEAMS_ENDPOINT)\n",
    "weeks_df = pd.DataFrame(week_api_response.json())\n",
    "weeks_df['year'] = weeks_df['week_number'].str.slice(0,4).astype(int)\n",
    "weeks_df['week'] = weeks_df['week_number'].str.slice(4,6).astype(int)\n",
    "\n",
    "weeks_df = weeks_df.query('week <= 14')\n",
    "max_totals_grouped_df = weeks_df.groupby('year').agg(\n",
    "    ppr_12_max_points = ('ppr_12_max_points', 'sum'),\n",
    "    half_ppr_8_max_points=('half_ppr_8_max_points', 'sum')\n",
    ")\n",
    "\n",
    "display(max_totals_grouped_df)"
   ]
  },
  {
   "cell_type": "code",
   "execution_count": 34,
   "id": "93cc9bce",
   "metadata": {},
   "outputs": [
    {
     "data": {
      "text/html": [
       "<div>\n",
       "<style scoped>\n",
       "    .dataframe tbody tr th:only-of-type {\n",
       "        vertical-align: middle;\n",
       "    }\n",
       "\n",
       "    .dataframe tbody tr th {\n",
       "        vertical-align: top;\n",
       "    }\n",
       "\n",
       "    .dataframe thead th {\n",
       "        text-align: right;\n",
       "    }\n",
       "</style>\n",
       "<table border=\"1\" class=\"dataframe\">\n",
       "  <thead>\n",
       "    <tr style=\"text-align: right;\">\n",
       "      <th></th>\n",
       "      <th>league_id</th>\n",
       "      <th>league_name</th>\n",
       "      <th>scoring_type</th>\n",
       "    </tr>\n",
       "  </thead>\n",
       "  <tbody>\n",
       "    <tr>\n",
       "      <th>0</th>\n",
       "      <td>5001</td>\n",
       "      <td>Pigskin Prodigal Fantasy League</td>\n",
       "      <td>PPR</td>\n",
       "    </tr>\n",
       "    <tr>\n",
       "      <th>1</th>\n",
       "      <td>5002</td>\n",
       "      <td>Recurring Champions League</td>\n",
       "      <td>Half-PPR</td>\n",
       "    </tr>\n",
       "    <tr>\n",
       "      <th>2</th>\n",
       "      <td>5003</td>\n",
       "      <td>AHAHFZZFFFL</td>\n",
       "      <td>Standard</td>\n",
       "    </tr>\n",
       "    <tr>\n",
       "      <th>3</th>\n",
       "      <td>5004</td>\n",
       "      <td>Gridiron Gurus Fantasy League</td>\n",
       "      <td>PPR</td>\n",
       "    </tr>\n",
       "    <tr>\n",
       "      <th>4</th>\n",
       "      <td>5005</td>\n",
       "      <td>Best League Ever</td>\n",
       "      <td>PPR</td>\n",
       "    </tr>\n",
       "  </tbody>\n",
       "</table>\n",
       "</div>"
      ],
      "text/plain": [
       "   league_id                      league_name scoring_type\n",
       "0       5001  Pigskin Prodigal Fantasy League          PPR\n",
       "1       5002       Recurring Champions League     Half-PPR\n",
       "2       5003                      AHAHFZZFFFL     Standard\n",
       "3       5004    Gridiron Gurus Fantasy League          PPR\n",
       "4       5005                 Best League Ever          PPR"
      ]
     },
     "metadata": {},
     "output_type": "display_data"
    }
   ],
   "source": [
    "league_api_response = swc.call_api_endpoint(base_url,swc.LIST_LEAGUES_ENDPOINT)\n",
    "leagues_df = pd.DataFrame(league_api_response.json())\n",
    "leagues_df = leagues_df.drop(columns=['teams','last_changed_date'])\n",
    "display(leagues_df)"
   ]
  },
  {
   "cell_type": "code",
   "execution_count": 39,
   "id": "183173c5",
   "metadata": {},
   "outputs": [
    {
     "ename": "TypeError",
     "evalue": "'int' object is not iterable",
     "output_type": "error",
     "traceback": [
      "\u001b[31m---------------------------------------------------------------------------\u001b[39m",
      "\u001b[31mTypeError\u001b[39m                                 Traceback (most recent call last)",
      "\u001b[36mCell\u001b[39m\u001b[36m \u001b[39m\u001b[32mIn[39]\u001b[39m\u001b[32m, line 3\u001b[39m\n\u001b[32m      1\u001b[39m team_api_response = swc.call_api_endpoint(base_url,\u001b[33m\"\u001b[39m\u001b[33m/v0/teams/\u001b[39m\u001b[33m\"\u001b[39m)\n\u001b[32m----> \u001b[39m\u001b[32m3\u001b[39m teams_parsed_df = \u001b[43mpd\u001b[49m\u001b[43m.\u001b[49m\u001b[43mjson_normalize\u001b[49m\u001b[43m(\u001b[49m\u001b[43mteam_api_response\u001b[49m\u001b[43m.\u001b[49m\u001b[43mjson\u001b[49m\u001b[43m(\u001b[49m\u001b[43m)\u001b[49m\u001b[43m,\u001b[49m\u001b[43m \u001b[49m\n\u001b[32m      4\u001b[39m \u001b[43m                                    \u001b[49m\u001b[43m[\u001b[49m\u001b[33;43m'\u001b[39;49m\u001b[33;43mleague_id\u001b[39;49m\u001b[33;43m'\u001b[39;49m\u001b[43m,\u001b[49m\u001b[43m \u001b[49m\u001b[33;43m'\u001b[39;49m\u001b[33;43mteam_id\u001b[39;49m\u001b[33;43m'\u001b[39;49m\u001b[43m,\u001b[49m\u001b[43m \u001b[49m\u001b[33;43m'\u001b[39;49m\u001b[33;43mteam_name\u001b[39;49m\u001b[33;43m'\u001b[39;49m\u001b[43m]\u001b[49m\u001b[43m)\u001b[49m\n\u001b[32m      6\u001b[39m teams_parsed_df[\u001b[33m'\u001b[39m\u001b[33myear\u001b[39m\u001b[33m'\u001b[39m] = (teams_parsed_df[\u001b[33m'\u001b[39m\u001b[33mweek_number\u001b[39m\u001b[33m'\u001b[39m]\n\u001b[32m      7\u001b[39m                            .str.slice(\u001b[32m0\u001b[39m, \u001b[32m4\u001b[39m).astype(\u001b[38;5;28mint\u001b[39m))\n\u001b[32m      8\u001b[39m teams_parsed_df[\u001b[33m'\u001b[39m\u001b[33mweek\u001b[39m\u001b[33m'\u001b[39m] = (teams_parsed_df[\u001b[33m'\u001b[39m\u001b[33mweek_number\u001b[39m\u001b[33m'\u001b[39m]\n\u001b[32m      9\u001b[39m                            .str.slice(\u001b[32m4\u001b[39m, \u001b[32m6\u001b[39m).astype(\u001b[38;5;28mint\u001b[39m))\n",
      "\u001b[36mFile \u001b[39m\u001b[32mc:\\Users\\PauloOliveira\\py_studies\\handsonapi\\.venv\\Lib\\site-packages\\pandas\\io\\json\\_normalize.py:517\u001b[39m, in \u001b[36mjson_normalize\u001b[39m\u001b[34m(data, record_path, meta, meta_prefix, record_prefix, errors, sep, max_level)\u001b[39m\n\u001b[32m    514\u001b[39m                 meta_vals[key].append(meta_val)\n\u001b[32m    515\u001b[39m             records.extend(recs)\n\u001b[32m--> \u001b[39m\u001b[32m517\u001b[39m \u001b[43m_recursive_extract\u001b[49m\u001b[43m(\u001b[49m\u001b[43mdata\u001b[49m\u001b[43m,\u001b[49m\u001b[43m \u001b[49m\u001b[43mrecord_path\u001b[49m\u001b[43m,\u001b[49m\u001b[43m \u001b[49m\u001b[43m{\u001b[49m\u001b[43m}\u001b[49m\u001b[43m,\u001b[49m\u001b[43m \u001b[49m\u001b[43mlevel\u001b[49m\u001b[43m=\u001b[49m\u001b[32;43m0\u001b[39;49m\u001b[43m)\u001b[49m\n\u001b[32m    519\u001b[39m result = DataFrame(records)\n\u001b[32m    521\u001b[39m \u001b[38;5;28;01mif\u001b[39;00m record_prefix \u001b[38;5;129;01mis\u001b[39;00m \u001b[38;5;129;01mnot\u001b[39;00m \u001b[38;5;28;01mNone\u001b[39;00m:\n",
      "\u001b[36mFile \u001b[39m\u001b[32mc:\\Users\\PauloOliveira\\py_studies\\handsonapi\\.venv\\Lib\\site-packages\\pandas\\io\\json\\_normalize.py:496\u001b[39m, in \u001b[36mjson_normalize.<locals>._recursive_extract\u001b[39m\u001b[34m(data, path, seen_meta, level)\u001b[39m\n\u001b[32m    493\u001b[39m             \u001b[38;5;28;01mif\u001b[39;00m level + \u001b[32m1\u001b[39m == \u001b[38;5;28mlen\u001b[39m(val):\n\u001b[32m    494\u001b[39m                 seen_meta[key] = _pull_field(obj, val[-\u001b[32m1\u001b[39m])\n\u001b[32m--> \u001b[39m\u001b[32m496\u001b[39m         \u001b[43m_recursive_extract\u001b[49m\u001b[43m(\u001b[49m\u001b[43mobj\u001b[49m\u001b[43m[\u001b[49m\u001b[43mpath\u001b[49m\u001b[43m[\u001b[49m\u001b[32;43m0\u001b[39;49m\u001b[43m]\u001b[49m\u001b[43m]\u001b[49m\u001b[43m,\u001b[49m\u001b[43m \u001b[49m\u001b[43mpath\u001b[49m\u001b[43m[\u001b[49m\u001b[32;43m1\u001b[39;49m\u001b[43m:\u001b[49m\u001b[43m]\u001b[49m\u001b[43m,\u001b[49m\u001b[43m \u001b[49m\u001b[43mseen_meta\u001b[49m\u001b[43m,\u001b[49m\u001b[43m \u001b[49m\u001b[43mlevel\u001b[49m\u001b[43m=\u001b[49m\u001b[43mlevel\u001b[49m\u001b[43m \u001b[49m\u001b[43m+\u001b[49m\u001b[43m \u001b[49m\u001b[32;43m1\u001b[39;49m\u001b[43m)\u001b[49m\n\u001b[32m    497\u001b[39m \u001b[38;5;28;01melse\u001b[39;00m:\n\u001b[32m    498\u001b[39m     \u001b[38;5;28;01mfor\u001b[39;00m obj \u001b[38;5;129;01min\u001b[39;00m data:\n",
      "\u001b[36mFile \u001b[39m\u001b[32mc:\\Users\\PauloOliveira\\py_studies\\handsonapi\\.venv\\Lib\\site-packages\\pandas\\io\\json\\_normalize.py:491\u001b[39m, in \u001b[36mjson_normalize.<locals>._recursive_extract\u001b[39m\u001b[34m(data, path, seen_meta, level)\u001b[39m\n\u001b[32m    489\u001b[39m     data = [data]\n\u001b[32m    490\u001b[39m \u001b[38;5;28;01mif\u001b[39;00m \u001b[38;5;28mlen\u001b[39m(path) > \u001b[32m1\u001b[39m:\n\u001b[32m--> \u001b[39m\u001b[32m491\u001b[39m \u001b[43m    \u001b[49m\u001b[38;5;28;43;01mfor\u001b[39;49;00m\u001b[43m \u001b[49m\u001b[43mobj\u001b[49m\u001b[43m \u001b[49m\u001b[38;5;129;43;01min\u001b[39;49;00m\u001b[43m \u001b[49m\u001b[43mdata\u001b[49m\u001b[43m:\u001b[49m\n\u001b[32m    492\u001b[39m \u001b[43m        \u001b[49m\u001b[38;5;28;43;01mfor\u001b[39;49;00m\u001b[43m \u001b[49m\u001b[43mval\u001b[49m\u001b[43m,\u001b[49m\u001b[43m \u001b[49m\u001b[43mkey\u001b[49m\u001b[43m \u001b[49m\u001b[38;5;129;43;01min\u001b[39;49;00m\u001b[43m \u001b[49m\u001b[38;5;28;43mzip\u001b[39;49m\u001b[43m(\u001b[49m\u001b[43m_meta\u001b[49m\u001b[43m,\u001b[49m\u001b[43m \u001b[49m\u001b[43mmeta_keys\u001b[49m\u001b[43m)\u001b[49m\u001b[43m:\u001b[49m\n\u001b[32m    493\u001b[39m \u001b[43m            \u001b[49m\u001b[38;5;28;43;01mif\u001b[39;49;00m\u001b[43m \u001b[49m\u001b[43mlevel\u001b[49m\u001b[43m \u001b[49m\u001b[43m+\u001b[49m\u001b[43m \u001b[49m\u001b[32;43m1\u001b[39;49m\u001b[43m \u001b[49m\u001b[43m==\u001b[49m\u001b[43m \u001b[49m\u001b[38;5;28;43mlen\u001b[39;49m\u001b[43m(\u001b[49m\u001b[43mval\u001b[49m\u001b[43m)\u001b[49m\u001b[43m:\u001b[49m\n",
      "\u001b[31mTypeError\u001b[39m: 'int' object is not iterable"
     ]
    }
   ],
   "source": [
    "team_api_response = swc.call_api_endpoint(base_url,\"/v0/teams/\")\n",
    "\n",
    "teams_parsed_df = pd.json_normalize(team_api_response.json(), \n",
    "                                    ['league_id', 'team_id', 'team_name'])\n",
    "\n",
    "teams_parsed_df['year'] = (teams_parsed_df['week_number']\n",
    "                           .str.slice(0, 4).astype(int))\n",
    "teams_parsed_df['week'] = (teams_parsed_df['week_number']\n",
    "                           .str.slice(4, 6).astype(int))\n",
    "\n",
    "#get only regular season teams\n",
    "teams_regular_season_df = teams_parsed_df.query('week <= 14')\n",
    "\n",
    "#get team season totals\n",
    "team_totals_df = teams_regular_season_df.groupby(\n",
    "    ['league_id', 'team_id', 'year'], as_index = False\n",
    "    )['fantasy_points'].sum()\n",
    "\n",
    "team_totals_df.head()"
   ]
  },
  {
   "cell_type": "code",
   "execution_count": 40,
   "id": "51d79dea",
   "metadata": {},
   "outputs": [
    {
     "ename": "NameError",
     "evalue": "name 'team_totals_df' is not defined",
     "output_type": "error",
     "traceback": [
      "\u001b[31m---------------------------------------------------------------------------\u001b[39m",
      "\u001b[31mNameError\u001b[39m                                 Traceback (most recent call last)",
      "\u001b[36mCell\u001b[39m\u001b[36m \u001b[39m\u001b[32mIn[40]\u001b[39m\u001b[32m, line 1\u001b[39m\n\u001b[32m----> \u001b[39m\u001b[32m1\u001b[39m league_stats_df = \u001b[43mteam_totals_df\u001b[49m.groupby([\u001b[33m'\u001b[39m\u001b[33mleague_id\u001b[39m\u001b[33m'\u001b[39m,\u001b[33m'\u001b[39m\u001b[33myear\u001b[39m\u001b[33m'\u001b[39m]).agg(\n\u001b[32m      2\u001b[39m     league_points_sum=(\u001b[33m'\u001b[39m\u001b[33mfantasy_points\u001b[39m\u001b[33m'\u001b[39m, \u001b[33m'\u001b[39m\u001b[33msum\u001b[39m\u001b[33m'\u001b[39m),\n\u001b[32m      3\u001b[39m     league_points_mean=(\u001b[33m'\u001b[39m\u001b[33mfantasy_points\u001b[39m\u001b[33m'\u001b[39m, \u001b[33m'\u001b[39m\u001b[33mmean\u001b[39m\u001b[33m'\u001b[39m),\n\u001b[32m      4\u001b[39m     league_points_stdev=(\u001b[33m'\u001b[39m\u001b[33mfantasy_points\u001b[39m\u001b[33m'\u001b[39m, \u001b[33m'\u001b[39m\u001b[33mstd\u001b[39m\u001b[33m'\u001b[39m),\n\u001b[32m      5\u001b[39m     league_balance_score=(\u001b[33m'\u001b[39m\u001b[33mfantasy_points\u001b[39m\u001b[33m'\u001b[39m, \n\u001b[32m      6\u001b[39m                           \u001b[38;5;28;01mlambda\u001b[39;00m x: (\u001b[32m100\u001b[39m -(x.std() / x.mean()) * \u001b[32m100\u001b[39m))\n\u001b[32m      7\u001b[39m ).reset_index()\n\u001b[32m      9\u001b[39m display(league_stats_df.sort_values(by=\u001b[33m'\u001b[39m\u001b[33mleague_balance_score\u001b[39m\u001b[33m'\u001b[39m, ascending=\u001b[38;5;28;01mFalse\u001b[39;00m))\n",
      "\u001b[31mNameError\u001b[39m: name 'team_totals_df' is not defined"
     ]
    }
   ],
   "source": [
    "league_stats_df = team_totals_df.groupby(['league_id','year']).agg(\n",
    "    league_points_sum=('fantasy_points', 'sum'),\n",
    "    league_points_mean=('fantasy_points', 'mean'),\n",
    "    league_points_stdev=('fantasy_points', 'std'),\n",
    "    league_balance_score=('fantasy_points', \n",
    "                          lambda x: (100 -(x.std() / x.mean()) * 100))\n",
    ").reset_index()\n",
    "\n",
    "display(league_stats_df.sort_values(by='league_balance_score', ascending=False))"
   ]
  },
  {
   "cell_type": "code",
   "execution_count": 41,
   "id": "7c302eb2",
   "metadata": {},
   "outputs": [
    {
     "ename": "NameError",
     "evalue": "name 'league_stats_df' is not defined",
     "output_type": "error",
     "traceback": [
      "\u001b[31m---------------------------------------------------------------------------\u001b[39m",
      "\u001b[31mNameError\u001b[39m                                 Traceback (most recent call last)",
      "\u001b[36mCell\u001b[39m\u001b[36m \u001b[39m\u001b[32mIn[41]\u001b[39m\u001b[32m, line 1\u001b[39m\n\u001b[32m----> \u001b[39m\u001b[32m1\u001b[39m league_stats_with_league_max_df = (\u001b[43mleague_stats_df\u001b[49m[\n\u001b[32m      2\u001b[39m     [\u001b[33m'\u001b[39m\u001b[33mleague_id\u001b[39m\u001b[33m'\u001b[39m,\u001b[33m'\u001b[39m\u001b[33myear\u001b[39m\u001b[33m'\u001b[39m, \u001b[33m'\u001b[39m\u001b[33mleague_points_sum\u001b[39m\u001b[33m'\u001b[39m,\u001b[33m'\u001b[39m\u001b[33mleague_balance_score\u001b[39m\u001b[33m'\u001b[39m]]\n\u001b[32m      3\u001b[39m                .merge(max_totals_grouped_df,left_on = \u001b[33m'\u001b[39m\u001b[33myear\u001b[39m\u001b[33m'\u001b[39m, right_on=\u001b[33m'\u001b[39m\u001b[33myear\u001b[39m\u001b[33m'\u001b[39m))\n\u001b[32m      5\u001b[39m combined_metrics_df = (leagues_df[\n\u001b[32m      6\u001b[39m     [\u001b[33m'\u001b[39m\u001b[33mleague_id\u001b[39m\u001b[33m'\u001b[39m,\u001b[33m'\u001b[39m\u001b[33mleague_name\u001b[39m\u001b[33m'\u001b[39m,\u001b[33m'\u001b[39m\u001b[33mscoring_type\u001b[39m\u001b[33m'\u001b[39m, \u001b[33m'\u001b[39m\u001b[33mleague_size\u001b[39m\u001b[33m'\u001b[39m]]\n\u001b[32m      7\u001b[39m     .merge(league_stats_with_league_max_df, \n\u001b[32m      8\u001b[39m            left_on = \u001b[33m'\u001b[39m\u001b[33mleague_id\u001b[39m\u001b[33m'\u001b[39m, right_on = \u001b[33m'\u001b[39m\u001b[33mleague_id\u001b[39m\u001b[33m'\u001b[39m))\n\u001b[32m     10\u001b[39m combined_metrics_df[\u001b[33m'\u001b[39m\u001b[33mleague_juice_score\u001b[39m\u001b[33m'\u001b[39m] = combined_metrics_df.apply(\n\u001b[32m     11\u001b[39m     \u001b[38;5;28;01mlambda\u001b[39;00m row: (\n\u001b[32m     12\u001b[39m         \u001b[32m100\u001b[39m * (row[\u001b[33m'\u001b[39m\u001b[33mleague_points_sum\u001b[39m\u001b[33m'\u001b[39m] / row[\u001b[33m'\u001b[39m\u001b[33mppr_12_max_points\u001b[39m\u001b[33m'\u001b[39m])\n\u001b[32m   (...)\u001b[39m\u001b[32m     20\u001b[39m     axis=\u001b[32m1\u001b[39m\n\u001b[32m     21\u001b[39m )\n",
      "\u001b[31mNameError\u001b[39m: name 'league_stats_df' is not defined"
     ]
    }
   ],
   "source": [
    "league_stats_with_league_max_df = (league_stats_df[\n",
    "    ['league_id','year', 'league_points_sum','league_balance_score']]\n",
    "               .merge(max_totals_grouped_df,left_on = 'year', right_on='year'))\n",
    "\n",
    "combined_metrics_df = (leagues_df[\n",
    "    ['league_id','league_name','scoring_type', 'league_size']]\n",
    "    .merge(league_stats_with_league_max_df, \n",
    "           left_on = 'league_id', right_on = 'league_id'))\n",
    "\n",
    "combined_metrics_df['league_juice_score'] = combined_metrics_df.apply(\n",
    "    lambda row: (\n",
    "        100 * (row['league_points_sum'] / row['ppr_12_max_points'])\n",
    "        if (row['scoring_type'] == 'PPR' and row['league_size'] == 12) \n",
    "        else (\n",
    "            100 * (row['league_points_sum'] / row['half_ppr_8_max_points'])\n",
    "            if (row['scoring_type'] == 'Half-PPR' and row['league_size'] == 8) \n",
    "            else None\n",
    "        )\n",
    "    ),\n",
    "    axis=1\n",
    ")\n",
    "\n",
    "combined_metrics_df = (combined_metrics_df.drop(\n",
    "    columns=['scoring_type','league_size','league_points_sum'\n",
    "             ,'ppr_12_max_points','half_ppr_8_max_points',] )\n",
    ")\n",
    "display(combined_metrics_df)"
   ]
  },
  {
   "cell_type": "code",
   "execution_count": 42,
   "id": "5222a634",
   "metadata": {},
   "outputs": [
    {
     "ename": "NameError",
     "evalue": "name 'combined_metrics_df' is not defined",
     "output_type": "error",
     "traceback": [
      "\u001b[31m---------------------------------------------------------------------------\u001b[39m",
      "\u001b[31mNameError\u001b[39m                                 Traceback (most recent call last)",
      "\u001b[36mCell\u001b[39m\u001b[36m \u001b[39m\u001b[32mIn[42]\u001b[39m\u001b[32m, line 1\u001b[39m\n\u001b[32m----> \u001b[39m\u001b[32m1\u001b[39m combined_metrics_df[\u001b[33m'\u001b[39m\u001b[33mshark_league_score\u001b[39m\u001b[33m'\u001b[39m] = \u001b[43mcombined_metrics_df\u001b[49m.apply(\n\u001b[32m      2\u001b[39m     \u001b[38;5;28;01mlambda\u001b[39;00m league: (\u001b[32m2\u001b[39m * league[\u001b[33m'\u001b[39m\u001b[33mleague_juice_score\u001b[39m\u001b[33m'\u001b[39m]) +  league[\u001b[33m'\u001b[39m\u001b[33mleague_balance_score\u001b[39m\u001b[33m'\u001b[39m],\n\u001b[32m      3\u001b[39m     axis=\u001b[32m1\u001b[39m\n\u001b[32m      4\u001b[39m )\n\u001b[32m      5\u001b[39m display(combined_metrics_df.sort_values(by=\u001b[33m'\u001b[39m\u001b[33mshark_league_score\u001b[39m\u001b[33m'\u001b[39m, ascending=\u001b[38;5;28;01mFalse\u001b[39;00m))\n",
      "\u001b[31mNameError\u001b[39m: name 'combined_metrics_df' is not defined"
     ]
    }
   ],
   "source": [
    "combined_metrics_df['shark_league_score'] = combined_metrics_df.apply(\n",
    "    lambda league: (2 * league['league_juice_score']) +  league['league_balance_score'],\n",
    "    axis=1\n",
    ")\n",
    "display(combined_metrics_df.sort_values(by='shark_league_score', ascending=False))"
   ]
  },
  {
   "cell_type": "code",
   "execution_count": null,
   "id": "74eaab27",
   "metadata": {},
   "outputs": [],
   "source": []
  }
 ],
 "metadata": {
  "kernelspec": {
   "display_name": ".venv",
   "language": "python",
   "name": "python3"
  },
  "language_info": {
   "codemirror_mode": {
    "name": "ipython",
    "version": 3
   },
   "file_extension": ".py",
   "mimetype": "text/x-python",
   "name": "python",
   "nbconvert_exporter": "python",
   "pygments_lexer": "ipython3",
   "version": "3.13.2"
  }
 },
 "nbformat": 4,
 "nbformat_minor": 5
}
